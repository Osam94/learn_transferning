{
 "cells": [
  {
   "cell_type": "code",
   "execution_count": 3,
   "metadata": {},
   "outputs": [
    {
     "name": "stdout",
     "output_type": "stream",
     "text": [
      "Predicted class: 263\n"
     ]
    }
   ],
   "source": [
    "import torch\n",
    "from torchvision import models, transforms\n",
    "from PIL import Image\n",
    "import os\n",
    "\n",
    "# Загрузка предобученной модели ResNet\n",
    "model = models.resnet50(weights='DEFAULT')\n",
    "model.eval()  # Переводим модель в режим оценки\n",
    "\n",
    "# Определяем трансформации для входного изображения\n",
    "preprocess = transforms.Compose([\n",
    "    transforms.Resize(256),\n",
    "    transforms.CenterCrop(224),\n",
    "    transforms.ToTensor(),\n",
    "    transforms.Normalize(mean=[0.485, 0.456, 0.406], std=[0.229, 0.224, 0.225]),\n",
    "])\n",
    "\n",
    "# Функция для предсказания класса изображения\n",
    "def predict_image_class(image_path):\n",
    "    if not os.path.exists(image_path):\n",
    "        raise FileNotFoundError(f'Файл не найден: {image_path}')\n",
    "    \n",
    "    # Загружаем и обрабатываем изображение\n",
    "    image = Image.open(image_path)\n",
    "    image_tensor = preprocess(image).unsqueeze(0)  # Добавляем размерность для батча\n",
    "\n",
    "    # Выполняем предсказание\n",
    "    with torch.no_grad():\n",
    "        output = model(image_tensor)\n",
    "\n",
    "    # Получаем класс с максимальной вероятностью\n",
    "    _, predicted_class = torch.max(output, 1)\n",
    "    return predicted_class.item()\n",
    "\n",
    "# Пример использования\n",
    "image_path = r\"C:\\Users\\Azerty\\Desktop\\test\\corgi.jpg\"  # Укажите путь к вашему изображению\n",
    "try:\n",
    "    predicted_class = predict_image_class(image_path)\n",
    "    print(f'Predicted class: {predicted_class}')\n",
    "except FileNotFoundError as e:\n",
    "    print(e)\n",
    "\n"
   ]
  },
  {
   "cell_type": "code",
   "execution_count": 5,
   "metadata": {},
   "outputs": [
    {
     "name": "stderr",
     "output_type": "stream",
     "text": [
      "Some weights of BertForSequenceClassification were not initialized from the model checkpoint at bert-base-uncased and are newly initialized: ['classifier.bias', 'classifier.weight']\n",
      "You should probably TRAIN this model on a down-stream task to be able to use it for predictions and inference.\n"
     ]
    },
    {
     "name": "stdout",
     "output_type": "stream",
     "text": [
      "Predicted class: 1\n"
     ]
    }
   ],
   "source": [
    "from transformers import BertTokenizer, BertForSequenceClassification\n",
    "import torch\n",
    "\n",
    "# Загрузка предобученной модели BERT и токенизатора\n",
    "model = BertForSequenceClassification.from_pretrained('bert-base-uncased', num_labels=2)  # Укажите количество классов\n",
    "tokenizer = BertTokenizer.from_pretrained('bert-base-uncased')\n",
    "model.eval()  # Переводим модель в режим оценки\n",
    "\n",
    "# Функция для классификации текста\n",
    "def classify_text(text):\n",
    "    # Токенизация текста\n",
    "    inputs = tokenizer(text, return_tensors='pt', truncation=True, padding=True, max_length=512)\n",
    "\n",
    "    # Выполняем предсказание\n",
    "    with torch.no_grad():\n",
    "        outputs = model(**inputs)\n",
    "\n",
    "    # Получаем класс с максимальной вероятностью\n",
    "    logits = outputs.logits\n",
    "    predicted_class = torch.argmax(logits, dim=1)\n",
    "    return predicted_class.item()\n",
    "\n",
    "# Пример использования\n",
    "text = \"This is a sample text for classification.\"  # Укажите текст для классификации\n",
    "predicted_class = classify_text(text)\n",
    "print(f'Predicted class: {predicted_class}')\n"
   ]
  }
 ],
 "metadata": {
  "kernelspec": {
   "display_name": "Python 3",
   "language": "python",
   "name": "python3"
  },
  "language_info": {
   "codemirror_mode": {
    "name": "ipython",
    "version": 3
   },
   "file_extension": ".py",
   "mimetype": "text/x-python",
   "name": "python",
   "nbconvert_exporter": "python",
   "pygments_lexer": "ipython3",
   "version": "3.12.4"
  }
 },
 "nbformat": 4,
 "nbformat_minor": 2
}
